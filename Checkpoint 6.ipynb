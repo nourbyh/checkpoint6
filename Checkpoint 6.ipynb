{
 "cells": [
  {
   "cell_type": "code",
   "execution_count": null,
   "id": "f3723066",
   "metadata": {},
   "outputs": [],
   "source": [
    "import numpy as np"
   ]
  },
  {
   "cell_type": "markdown",
   "id": "3ba4c441",
   "metadata": {},
   "source": [
    "# Question 1 :"
   ]
  },
  {
   "cell_type": "code",
   "execution_count": 10,
   "id": "191030c8",
   "metadata": {},
   "outputs": [
    {
     "name": "stdout",
     "output_type": "stream",
     "text": [
      "<class 'numpy.ndarray'>\n",
      "<class 'list'>\n"
     ]
    }
   ],
   "source": [
    "A=np.array([\"a\",\"b\",\"c\",\"d\"])\n",
    "print(type(A))\n",
    "print(type(A.tolist()))"
   ]
  },
  {
   "cell_type": "markdown",
   "id": "8c869f9a",
   "metadata": {},
   "source": [
    "# Question 2 :"
   ]
  },
  {
   "cell_type": "code",
   "execution_count": 19,
   "id": "7ce48a50",
   "metadata": {},
   "outputs": [
    {
     "name": "stdout",
     "output_type": "stream",
     "text": [
      "The sum of the diagonal of the matrice is equal to : 15\n"
     ]
    }
   ],
   "source": [
    "A=np.array([[1,2,3],[4,5,6],[7,8,9]])\n",
    "print (\"The sum of the diagonal of the matrice is equal to :\",A.trace())"
   ]
  },
  {
   "cell_type": "markdown",
   "id": "b40a9564",
   "metadata": {},
   "source": [
    "# Question 3 :"
   ]
  },
  {
   "cell_type": "code",
   "execution_count": 16,
   "id": "22978ea7",
   "metadata": {},
   "outputs": [
    {
     "name": "stdout",
     "output_type": "stream",
     "text": [
      "enter a number : 2\n",
      "the values higher than 2 : [3 5]\n"
     ]
    }
   ],
   "source": [
    "A = np.array([[1,2],[3,5]])\n",
    "x = int(input('enter a number : '))\n",
    "B = A[A>x]\n",
    "print('the values higher than',x ,':',B)"
   ]
  },
  {
   "cell_type": "markdown",
   "id": "7eb1bf49",
   "metadata": {},
   "source": [
    "# Question 4 :"
   ]
  },
  {
   "cell_type": "code",
   "execution_count": 17,
   "id": "2abc8313",
   "metadata": {},
   "outputs": [
    {
     "name": "stdout",
     "output_type": "stream",
     "text": [
      "[ 2  4  6  8 10 12 14 16 18]\n"
     ]
    }
   ],
   "source": [
    "a = np.array([1,2,3,4,5,6,7,8,9])\n",
    "b = np.array([1,2,3,4,5,6,7,8,9])\n",
    "C = a+b\n",
    "print(C)"
   ]
  },
  {
   "cell_type": "markdown",
   "id": "57c061d9",
   "metadata": {},
   "source": [
    "# Question 5 :"
   ]
  },
  {
   "cell_type": "code",
   "execution_count": 18,
   "id": "0609a18a",
   "metadata": {},
   "outputs": [
    {
     "name": "stdout",
     "output_type": "stream",
     "text": [
      "[[2.]\n",
      " [5.]\n",
      " [8.]]\n",
      "[[-1.  0.  1.]\n",
      " [-1.  0.  1.]\n",
      " [-1.  0.  1.]]\n"
     ]
    }
   ],
   "source": [
    "a = np.array([[1,2,3],[4,5,6],[7,8,9]])\n",
    "print (a.mean(axis=1, keepdims=True))\n",
    "X = a-a.mean(axis=1, keepdims=True)\n",
    "print (X)"
   ]
  },
  {
   "cell_type": "code",
   "execution_count": null,
   "id": "2ef33546",
   "metadata": {},
   "outputs": [],
   "source": []
  }
 ],
 "metadata": {
  "kernelspec": {
   "display_name": "Python 3 (ipykernel)",
   "language": "python",
   "name": "python3"
  },
  "language_info": {
   "codemirror_mode": {
    "name": "ipython",
    "version": 3
   },
   "file_extension": ".py",
   "mimetype": "text/x-python",
   "name": "python",
   "nbconvert_exporter": "python",
   "pygments_lexer": "ipython3",
   "version": "3.9.7"
  }
 },
 "nbformat": 4,
 "nbformat_minor": 5
}
